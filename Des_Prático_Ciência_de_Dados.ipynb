{
  "nbformat": 4,
  "nbformat_minor": 0,
  "metadata": {
    "colab": {
      "provenance": [],
      "mount_file_id": "1NRdhL9kwjMrfN-Lak42liTRXhJG0MsFw",
      "authorship_tag": "ABX9TyPUbexDeEfg6HuWRSkjrAFc",
      "include_colab_link": true
    },
    "kernelspec": {
      "name": "python3",
      "display_name": "Python 3"
    },
    "language_info": {
      "name": "python"
    }
  },
  "cells": [
    {
      "cell_type": "markdown",
      "metadata": {
        "id": "view-in-github",
        "colab_type": "text"
      },
      "source": [
        "<a href=\"https://colab.research.google.com/github/rochadelon/Desafio-Pratico-VExpenses/blob/main/Des_Pr%C3%A1tico_Ci%C3%AAncia_de_Dados_VExpenses.ipynb\" target=\"_parent\"><img src=\"https://colab.research.google.com/assets/colab-badge.svg\" alt=\"Open In Colab\"/></a>"
      ]
    },
    {
      "cell_type": "markdown",
      "source": [],
      "metadata": {
        "id": "bLzM2m8aNIc-"
      }
    },
    {
      "cell_type": "code",
      "execution_count": 103,
      "metadata": {
        "id": "9qPEyo1nyDP-"
      },
      "outputs": [],
      "source": [
        "import pandas as pd\n",
        "import matplotlib.pyplot as plt\n",
        "import seaborn as sns\n",
        "from sklearn.model_selection import train_test_split\n",
        "from sklearn.preprocessing import MinMaxScaler, OneHotEncoder\n",
        "from sklearn.metrics import accuracy_score, classification_report, confusion_matrix\n",
        "import numpy as np\n",
        "import tabulate\n",
        "\n",
        "\n",
        "df = pd.read_csv('/Dataset.csv')\n",
        "\n",
        "\n"
      ]
    },
    {
      "cell_type": "markdown",
      "source": [
        "#1. Análise Exploratória dos Dados"
      ],
      "metadata": {
        "id": "0rrsVAgu2zzx"
      }
    },
    {
      "cell_type": "code",
      "source": [
        "print(df.describe())"
      ],
      "metadata": {
        "colab": {
          "base_uri": "https://localhost:8080/"
        },
        "id": "mkLv2GYquFtP",
        "outputId": "788d3b81-0f72-4421-f8d7-93b2918febb4"
      },
      "execution_count": 116,
      "outputs": [
        {
          "output_type": "stream",
          "name": "stdout",
          "text": [
            "            Idade  Renda Anual (em $)  Tempo no Site (min)  Compra (0 ou 1)\n",
            "count  190.000000          189.000000           200.000000       200.000000\n",
            "mean    38.510526        58253.968254            17.349090         0.330000\n",
            "std     12.679918        25612.061811             7.724088         0.471393\n",
            "min     18.000000        30000.000000            -1.000000         0.000000\n",
            "25%     28.000000        30000.000000            10.860240         0.000000\n",
            "50%     38.000000        50000.000000            18.197552         0.000000\n",
            "75%     50.000000        70000.000000            23.887341         1.000000\n",
            "max     59.000000       100000.000000            29.853484         1.000000\n"
          ]
        }
      ]
    },
    {
      "cell_type": "markdown",
      "source": [],
      "metadata": {
        "id": "Euw3Wlk6NDF3"
      }
    },
    {
      "cell_type": "code",
      "source": [
        "tabela_numericas = []\n",
        "for coluna in df.select_dtypes(include=['number']).columns:\n",
        "    frequencia = df[coluna].count()\n",
        "    media = df[coluna].mean()\n",
        "    moda = df[coluna].mode().iloc[0] if not df[coluna].mode().empty else None\n",
        "    mediana = df[coluna].median()\n",
        "    desvio_padrao = df[coluna].std()\n",
        "    minimo = df[coluna].min()\n",
        "    maximo = df[coluna].max()\n",
        "    tabela_numericas.append({\n",
        "        'Variável': coluna,\n",
        "        'Frequência': frequencia,\n",
        "        'Média': media,\n",
        "        'Moda': moda,\n",
        "        'Mediana': mediana,\n",
        "        'Desvio Padrão': desvio_padrao,\n",
        "        'Mínimo': minimo,\n",
        "        'Máximo': maximo\n",
        "    })\n",
        "\n",
        "df_numericas = pd.DataFrame(tabela_numericas)\n",
        "\n",
        "tabela_categoricas = []\n",
        "for coluna in df.select_dtypes(include=['object', 'category']).columns:\n",
        "    categorias = df[coluna].value_counts()\n",
        "    for categoria, frequencia in categorias.items():\n",
        "        proporcao = (frequencia / len(df)) * 100\n",
        "        tabela_categoricas.append({\n",
        "            'Variável': coluna,\n",
        "            'Categoria': categoria,\n",
        "            'Frequência': frequencia,\n",
        "            'Proporção (%)': proporcao\n",
        "        })\n",
        "\n",
        "df_categoricas = pd.DataFrame(tabela_categoricas)\n",
        "\n",
        "tabela_numericas_md = df_numericas.to_markdown(index=False, tablefmt=\"grid\")\n",
        "tabela_categoricas_md= df_categoricas.to_markdown(index=False, tablefmt=\"grid\")\n",
        "\n",
        "print(tabela_numericas_md)\n",
        "print(tabela_categoricas_md)\n"
      ],
      "metadata": {
        "colab": {
          "base_uri": "https://localhost:8080/"
        },
        "id": "VOVxREBoAyM9",
        "outputId": "94ef7c85-87f5-4da9-d714-0bff152c06f3"
      },
      "execution_count": 117,
      "outputs": [
        {
          "output_type": "stream",
          "name": "stdout",
          "text": [
            "+---------------------+--------------+------------+--------+------------+-----------------+----------+-------------+\n",
            "| Variável            |   Frequência |      Média |   Moda |    Mediana |   Desvio Padrão |   Mínimo |      Máximo |\n",
            "+=====================+==============+============+========+============+=================+==========+=============+\n",
            "| Idade               |          190 |    38.5105 |     19 |    38      |       12.6799   |       18 |     59      |\n",
            "+---------------------+--------------+------------+--------+------------+-----------------+----------+-------------+\n",
            "| Renda Anual (em $)  |          189 | 58254      |  30000 | 50000      |    25612.1      |    30000 | 100000      |\n",
            "+---------------------+--------------+------------+--------+------------+-----------------+----------+-------------+\n",
            "| Tempo no Site (min) |          200 |    17.3491 |     -1 |    18.1976 |        7.72409  |       -1 |     29.8535 |\n",
            "+---------------------+--------------+------------+--------+------------+-----------------+----------+-------------+\n",
            "| Compra (0 ou 1)     |          200 |     0.33   |      0 |     0      |        0.471393 |        0 |      1      |\n",
            "+---------------------+--------------+------------+--------+------------+-----------------+----------+-------------+\n",
            "+-----------------+-------------+--------------+-----------------+\n",
            "| Variável        | Categoria   |   Frequência |   Proporção (%) |\n",
            "+=================+=============+==============+=================+\n",
            "| Gênero          | Masculino   |           99 |            49.5 |\n",
            "+-----------------+-------------+--------------+-----------------+\n",
            "| Gênero          | Feminino    |           94 |            47   |\n",
            "+-----------------+-------------+--------------+-----------------+\n",
            "| Anúncio Clicado | Sim         |          107 |            53.5 |\n",
            "+-----------------+-------------+--------------+-----------------+\n",
            "| Anúncio Clicado | Não         |           83 |            41.5 |\n",
            "+-----------------+-------------+--------------+-----------------+\n"
          ]
        }
      ]
    },
    {
      "cell_type": "markdown",
      "source": [
        "## 1.1 Distribuição das variáveis (idade, renda, tempo no site, etc.).\n",
        "\n"
      ],
      "metadata": {
        "id": "n32RhJP32C_c"
      }
    },
    {
      "cell_type": "code",
      "source": [
        "fig, axes = plt.subplots(2, 2, figsize=(12, 8))\n",
        "\n",
        "sns.histplot(df['Idade'], kde=True, ax=axes[0, 0]).set_title(\"Distribuição de Idade\")\n",
        "sns.histplot(df['Renda Anual (em $)'], kde=True, ax=axes[0, 1]).set_title(\"Distribuição de Renda Anual\")\n",
        "sns.histplot(df['Tempo no Site (min)'], kde=True, ax=axes[1, 0]).set_title(\"Distribuição de Tempo no Site\")\n",
        "\n",
        "sns.countplot(x='Gênero', data=df, ax=axes[1, 1]).set_title(\"Distribuição de Gênero\")\n",
        "sns.countplot(x='Anúncio Clicado', data=df, ax=axes[1, 1]).set_title(\"Distribuição de Anúncio Clicado e Gênero\")\n",
        "\n",
        "plt.tight_layout()\n",
        "plt.show()\n"
      ],
      "metadata": {
        "colab": {
          "base_uri": "https://localhost:8080/",
          "height": 807
        },
        "id": "mBCQQUwI2L6f",
        "outputId": "c015dd30-2858-472e-afa8-812e33f7ebe5"
      },
      "execution_count": 118,
      "outputs": [
        {
          "output_type": "display_data",
          "data": {
            "text/plain": [
              "<Figure size 1200x800 with 4 Axes>"
            ],
            "image/png": "[encoded data removed]"
          },
          "metadata": {}
        }
      ]
    },
    {
      "cell_type": "markdown",
      "source": [
        "## 1.2 Possíveis relações entre as variáveis independentes e a variável alvo (Compra)."
      ],
      "metadata": {
        "id": "argC3iYA0nEu"
      }
    },
    {
      "cell_type": "code",
      "source": [
        "variavel_alvo = 'Compra (0 ou 1)'\n",
        "if variavel_alvo in df.columns:\n",
        "    correlations_with_target = df.select_dtypes(include=np.number).corr()[[variavel_alvo]].dropna().sort_values(by=variavel_alvo, ascending=False)\n",
        "    correlations_with_target.rename(columns={variavel_alvo: 'Correlação com a Variável Alvo'}, inplace=True)\n",
        "else:\n",
        "    correlations_with_target = pd.DataFrame()\n",
        "\n",
        "correlation_table_md = tabulate.tabulate(\n",
        "    correlations_with_target.reset_index(),\n",
        "    headers=['Variável', 'Correlação com a Variável Alvo'],\n",
        "    tablefmt='pipe',\n",
        "    floatfmt=\".2f\"\n",
        ")\n",
        "\n",
        "print(correlation_table_md)\n"
      ],
      "metadata": {
        "colab": {
          "base_uri": "https://localhost:8080/"
        },
        "id": "hhENAVlrzKyG",
        "outputId": "27250b74-c725-4892-f37c-af8c4dfaefc0"
      },
      "execution_count": 119,
      "outputs": [
        {
          "output_type": "stream",
          "name": "stdout",
          "text": [
            "|    | Variável            |   Correlação com a Variável Alvo |\n",
            "|---:|:--------------------|---------------------------------:|\n",
            "|  0 | Compra (0 ou 1)     |                             1.00 |\n",
            "|  1 | Tempo no Site (min) |                             0.15 |\n",
            "|  2 | Idade               |                             0.11 |\n",
            "|  3 | Renda Anual (em $)  |                            -0.04 |\n"
          ]
        }
      ]
    },
    {
      "cell_type": "code",
      "source": [
        "fig, axes = plt.subplots(1, 3, figsize=(18, 5))\n",
        "\n",
        "\n",
        "sns.boxplot(x='Compra (0 ou 1)', y='Idade', data=df, ax=axes[0]).set_title(\"Idade vs Compra\")\n",
        "\n",
        "sns.boxplot(x='Compra (0 ou 1)', y='Renda Anual (em $)', data=df, ax=axes[1]).set_title(\"Renda Anual vs Compra\")\n",
        "\n",
        "sns.boxplot(x='Compra (0 ou 1)', y='Tempo no Site (min)', data=df, ax=axes[2]).set_title(\"Tempo no Site vs Compra\")\n",
        "\n",
        "\n",
        "plt.tight_layout()\n",
        "plt.show()"
      ],
      "metadata": {
        "colab": {
          "base_uri": "https://localhost:8080/",
          "height": 486
        },
        "id": "SXMJ8XUICZKH",
        "outputId": "ff25e7c5-0aa0-48a2-c7a9-1214bdcf4eb9"
      },
      "execution_count": 120,
      "outputs": [
        {
          "output_type": "display_data",
          "data": {
            "text/plain": [
              "<Figure size 1800x500 with 3 Axes>"
            ],
            "image/png": "[encoded data removed]"
          },
          "metadata": {}
        }
      ]
    },
    {
      "cell_type": "markdown",
      "source": [
        "## 1.3 Identifique valores ausentes ou inconsistências nos dados.\n",
        "\n",
        "---\n",
        "\n"
      ],
      "metadata": {
        "id": "BE1TuarE4FOy"
      }
    },
    {
      "cell_type": "code",
      "source": [
        "total_registros = len(df)\n",
        "valores_ausentes = df.isnull().sum()\n",
        "registros_validos = total_registros - valores_ausentes\n",
        "proporcao_ausentes = (valores_ausentes / total_registros) * 100\n",
        "\n",
        "tabela_resumo = pd.DataFrame({\n",
        "    \"Variável\": df.columns,\n",
        "    \"Total de Registros\": total_registros,\n",
        "    \"Registros Válidos\": registros_validos,\n",
        "    \"Valores Ausentes\": valores_ausentes,\n",
        "    \"Proporção de Ausentes (%)\": proporcao_ausentes.round(2)\n",
        "})\n",
        "\n",
        "tabela_markdown = tabela_resumo.to_markdown(index=False)\n",
        "\n",
        "print(tabela_markdown)\n"
      ],
      "metadata": {
        "colab": {
          "base_uri": "https://localhost:8080/"
        },
        "id": "9qZwx6w1JJNA",
        "outputId": "41818b89-41b6-4ccb-8b1f-2d9b4a9ccc93"
      },
      "execution_count": 121,
      "outputs": [
        {
          "output_type": "stream",
          "name": "stdout",
          "text": [
            "| Variável            |   Total de Registros |   Registros Válidos |   Valores Ausentes |   Proporção de Ausentes (%) |\n",
            "|:--------------------|---------------------:|--------------------:|-------------------:|----------------------------:|\n",
            "| Idade               |                  200 |                 190 |                 10 |                         5   |\n",
            "| Renda Anual (em $)  |                  200 |                 189 |                 11 |                         5.5 |\n",
            "| Gênero              |                  200 |                 193 |                  7 |                         3.5 |\n",
            "| Tempo no Site (min) |                  200 |                 200 |                  0 |                         0   |\n",
            "| Anúncio Clicado     |                  200 |                 190 |                 10 |                         5   |\n",
            "| Compra (0 ou 1)     |                  200 |                 200 |                  0 |                         0   |\n"
          ]
        }
      ]
    },
    {
      "cell_type": "code",
      "source": [
        "variaveis_numericas = ['Idade', 'Renda Anual (em $)', 'Tempo no Site (min)']\n",
        "variavel_binaria = 'Compra (0 ou 1)'\n",
        "variaveis_categoricas = ['Gênero', 'Anúncio Clicado']\n",
        "\n",
        "variaveis_esperadas = {\n",
        "    'Gênero': ['Masculino', 'Feminino'],\n",
        "    'Anúncio Clicado': ['Sim', 'Não']\n",
        "}\n",
        "\n",
        "\n",
        "def is_not_numeric(value):\n",
        "    return not isinstance(value, (int, float))\n",
        "\n",
        "\n",
        "inconsistencias_numericas = {}\n",
        "for col in variaveis_numericas:\n",
        "    if col in df.columns:\n",
        "        inconsistencias = df[df[col].map(is_not_numeric)][col].dropna().unique()\n",
        "        inconsistencias_numericas[col] = inconsistencias\n",
        "\n",
        "print(\"Inconsistências nas variáveis numéricas:\\n\", inconsistencias_numericas)\n",
        "\n",
        "if variavel_binaria in df.columns:\n",
        "    inconsistencias_binarias = df[~df[variavel_binaria].isin([0, 1])][variavel_binaria].dropna().unique()\n",
        "else:\n",
        "    inconsistencias_binarias = []\n",
        "\n",
        "inconsistencias_categoricas = {\n",
        "    col: df[~df[col].isin(expected)][col].dropna().unique()\n",
        "    for col, expected in variaveis_esperadas.items() if col in df.columns\n",
        "}\n",
        "\n",
        "print(\"Inconsistências nas variáveis numéricas:\\n\", inconsistencias_numericas, \"\\n\")\n",
        "print(\"Inconsistências na variável binária:\\n\", inconsistencias_binarias, \"\\n\")\n",
        "print(\"Inconsistências nas variáveis categóricas:\\n\", inconsistencias_categoricas, \"\\n\")\n"
      ],
      "metadata": {
        "colab": {
          "base_uri": "https://localhost:8080/"
        },
        "id": "dE7kCsSa5mlf",
        "outputId": "afaf8bea-d040-4051-f1f5-39e962c725b1"
      },
      "execution_count": 122,
      "outputs": [
        {
          "output_type": "stream",
          "name": "stdout",
          "text": [
            "Inconsistências nas variáveis numéricas:\n",
            " {'Idade': array([], dtype=float64), 'Renda Anual (em $)': array([], dtype=float64), 'Tempo no Site (min)': array([], dtype=float64)}\n",
            "Inconsistências nas variáveis numéricas:\n",
            " {'Idade': array([], dtype=float64), 'Renda Anual (em $)': array([], dtype=float64), 'Tempo no Site (min)': array([], dtype=float64)} \n",
            "\n",
            "Inconsistências na variável binária:\n",
            " [] \n",
            "\n",
            "Inconsistências nas variáveis categóricas:\n",
            " {'Gênero': array([], dtype=object), 'Anúncio Clicado': array([], dtype=object)} \n",
            "\n"
          ]
        }
      ]
    },
    {
      "cell_type": "markdown",
      "source": [
        "# 2. Pré-Procesamento de Dados"
      ],
      "metadata": {
        "id": "F3DJdEZE9E54"
      }
    },
    {
      "cell_type": "markdown",
      "source": [
        "## 2.1 Tratamento de Valores Ausentes e Normalização."
      ],
      "metadata": {
        "id": "__aTonej-IVY"
      }
    },
    {
      "cell_type": "code",
      "source": [
        "missing_values = df.isnull().sum()\n",
        "print(\"Valores ausentes por coluna antes do Pré-Processamento :\\n\", missing_values, \"\\n\")"
      ],
      "metadata": {
        "colab": {
          "base_uri": "https://localhost:8080/"
        },
        "id": "z-KnKdVn4bCq",
        "outputId": "f6968f9c-1e93-43d6-918a-999bb5ba3f3b"
      },
      "execution_count": 123,
      "outputs": [
        {
          "output_type": "stream",
          "name": "stdout",
          "text": [
            "Valores ausentes por coluna antes do Pré-Processamento :\n",
            " Idade                  10\n",
            "Renda Anual (em $)     11\n",
            "Gênero                  7\n",
            "Tempo no Site (min)     0\n",
            "Anúncio Clicado        10\n",
            "Compra (0 ou 1)         0\n",
            "dtype: int64 \n",
            "\n"
          ]
        }
      ]
    },
    {
      "cell_type": "code",
      "source": [
        "\n",
        "data_preprocessed = df.copy()\n",
        "\n",
        "for col in variaveis_numericas:\n",
        "    if col in data_preprocessed.columns:\n",
        "        data_preprocessed[col].fillna(data_preprocessed[col].median(), inplace=True)\n",
        "\n",
        "for col in variaveis_categoricas:\n",
        "    if col in data_preprocessed.columns:\n",
        "        data_preprocessed[col].fillna(data_preprocessed[col].mode()[0], inplace=True)\n",
        "\n",
        "scaler = MinMaxScaler()\n",
        "if all(var in data_preprocessed.columns for var in variaveis_numericas):\n",
        "    data_preprocessed[variaveis_numericas] = scaler.fit_transform(data_preprocessed[variaveis_numericas])\n",
        "\n",
        "print(\"Dataframe após Tratamento e Normalização: \\n\", data_preprocessed.head(), \"\\n\")\n",
        "\n",
        "missing_values = data_preprocessed.isnull().sum()\n",
        "\n",
        "missing_values"
      ],
      "metadata": {
        "colab": {
          "base_uri": "https://localhost:8080/",
          "height": 775
        },
        "id": "s9ScmaUwAi0k",
        "outputId": "881b3b73-1154-4927-b45c-9e84c77f510c"
      },
      "execution_count": 124,
      "outputs": [
        {
          "output_type": "stream",
          "name": "stdout",
          "text": [
            "Dataframe após Tratamento e Normalização: \n",
            "       Idade  Renda Anual (em $)    Gênero  Tempo no Site (min)  \\\n",
            "0  0.268293            0.000000  Feminino             0.218507   \n",
            "1  0.975610            0.285714  Feminino             0.741748   \n",
            "2  0.780488            0.571429  Feminino             0.230812   \n",
            "3  0.073171            1.000000  Feminino             0.559578   \n",
            "4  1.000000            0.285714  Feminino             0.947565   \n",
            "\n",
            "  Anúncio Clicado  Compra (0 ou 1)  \n",
            "0             Não                0  \n",
            "1             Sim                0  \n",
            "2             Não                1  \n",
            "3             Não                0  \n",
            "4             Sim                1   \n",
            "\n"
          ]
        },
        {
          "output_type": "stream",
          "name": "stderr",
          "text": [
            "<ipython-input-124-151980640841>:5: FutureWarning: A value is trying to be set on a copy of a DataFrame or Series through chained assignment using an inplace method.\n",
            "The behavior will change in pandas 3.0. This inplace method will never work because the intermediate object on which we are setting values always behaves as a copy.\n",
            "\n",
            "For example, when doing 'df[col].method(value, inplace=True)', try using 'df.method({col: value}, inplace=True)' or df[col] = df[col].method(value) instead, to perform the operation inplace on the original object.\n",
            "\n",
            "\n",
            "  data_preprocessed[col].fillna(data_preprocessed[col].median(), inplace=True)\n",
            "<ipython-input-124-151980640841>:9: FutureWarning: A value is trying to be set on a copy of a DataFrame or Series through chained assignment using an inplace method.\n",
            "The behavior will change in pandas 3.0. This inplace method will never work because the intermediate object on which we are setting values always behaves as a copy.\n",
            "\n",
            "For example, when doing 'df[col].method(value, inplace=True)', try using 'df.method({col: value}, inplace=True)' or df[col] = df[col].method(value) instead, to perform the operation inplace on the original object.\n",
            "\n",
            "\n",
            "  data_preprocessed[col].fillna(data_preprocessed[col].mode()[0], inplace=True)\n"
          ]
        },
        {
          "output_type": "execute_result",
          "data": {
            "text/plain": [
              "Idade                  0\n",
              "Renda Anual (em $)     0\n",
              "Gênero                 0\n",
              "Tempo no Site (min)    0\n",
              "Anúncio Clicado        0\n",
              "Compra (0 ou 1)        0\n",
              "dtype: int64"
            ],
            "text/html": [
              "<div>\n",
              "<style scoped>\n",
              "    .dataframe tbody tr th:only-of-type {\n",
              "        vertical-align: middle;\n",
              "    }\n",
              "\n",
              "    .dataframe tbody tr th {\n",
              "        vertical-align: top;\n",
              "    }\n",
              "\n",
              "    .dataframe thead th {\n",
              "        text-align: right;\n",
              "    }\n",
              "</style>\n",
              "<table border=\"1\" class=\"dataframe\">\n",
              "  <thead>\n",
              "    <tr style=\"text-align: right;\">\n",
              "      <th></th>\n",
              "      <th>0</th>\n",
              "    </tr>\n",
              "  </thead>\n",
              "  <tbody>\n",
              "    <tr>\n",
              "      <th>Idade</th>\n",
              "      <td>0</td>\n",
              "    </tr>\n",
              "    <tr>\n",
              "      <th>Renda Anual (em $)</th>\n",
              "      <td>0</td>\n",
              "    </tr>\n",
              "    <tr>\n",
              "      <th>Gênero</th>\n",
              "      <td>0</td>\n",
              "    </tr>\n",
              "    <tr>\n",
              "      <th>Tempo no Site (min)</th>\n",
              "      <td>0</td>\n",
              "    </tr>\n",
              "    <tr>\n",
              "      <th>Anúncio Clicado</th>\n",
              "      <td>0</td>\n",
              "    </tr>\n",
              "    <tr>\n",
              "      <th>Compra (0 ou 1)</th>\n",
              "      <td>0</td>\n",
              "    </tr>\n",
              "  </tbody>\n",
              "</table>\n",
              "</div><br><label><b>dtype:</b> int64</label>"
            ]
          },
          "metadata": {},
          "execution_count": 124
        }
      ]
    },
    {
      "cell_type": "code",
      "source": [
        "print(\"Valores ausentes após o preenchimento:\\n\", missing_values, \"\\n\")\n",
        "print(\"\\nEstatísticas descritivas após o pré-processamento:\\n\")\n",
        "print(df.describe())"
      ],
      "metadata": {
        "colab": {
          "base_uri": "https://localhost:8080/"
        },
        "id": "BKooc_0zUAeD",
        "outputId": "4b8c61ff-5b0f-4033-a058-80fe01da3ae6"
      },
      "execution_count": 125,
      "outputs": [
        {
          "output_type": "stream",
          "name": "stdout",
          "text": [
            "Valores ausentes após o preenchimento:\n",
            " Idade                  0\n",
            "Renda Anual (em $)     0\n",
            "Gênero                 0\n",
            "Tempo no Site (min)    0\n",
            "Anúncio Clicado        0\n",
            "Compra (0 ou 1)        0\n",
            "dtype: int64 \n",
            "\n",
            "\n",
            "Estatísticas descritivas após o pré-processamento:\n",
            "\n",
            "            Idade  Renda Anual (em $)  Tempo no Site (min)  Compra (0 ou 1)\n",
            "count  190.000000          189.000000           200.000000       200.000000\n",
            "mean    38.510526        58253.968254            17.349090         0.330000\n",
            "std     12.679918        25612.061811             7.724088         0.471393\n",
            "min     18.000000        30000.000000            -1.000000         0.000000\n",
            "25%     28.000000        30000.000000            10.860240         0.000000\n",
            "50%     38.000000        50000.000000            18.197552         0.000000\n",
            "75%     50.000000        70000.000000            23.887341         1.000000\n",
            "max     59.000000       100000.000000            29.853484         1.000000\n"
          ]
        }
      ]
    },
    {
      "cell_type": "code",
      "source": [
        "total_registros = len(data_preprocessed)\n",
        "valores_ausentes = data_preprocessed.isnull().sum()\n",
        "registros_validos = total_registros - valores_ausentes\n",
        "proporcao_ausentes = (valores_ausentes / total_registros) * 100\n",
        "\n",
        "tabela_resumo = pd.DataFrame({\n",
        "    \"Variável\": data_preprocessed.columns,\n",
        "    \"Total de Registros\": total_registros,\n",
        "    \"Registros Válidos\": registros_validos,\n",
        "    \"Valores Ausentes\": valores_ausentes,\n",
        "    \"Proporção de Ausentes (%)\": proporcao_ausentes.round(2)\n",
        "})\n",
        "\n",
        "tabela_markdown = tabela_resumo.to_markdown(index=False)\n",
        "\n",
        "print(tabela_markdown)"
      ],
      "metadata": {
        "colab": {
          "base_uri": "https://localhost:8080/"
        },
        "id": "O_eTg2A3TlO0",
        "outputId": "40e22947-2a9b-4615-fefd-e6bcab5518be"
      },
      "execution_count": 126,
      "outputs": [
        {
          "output_type": "stream",
          "name": "stdout",
          "text": [
            "| Variável            |   Total de Registros |   Registros Válidos |   Valores Ausentes |   Proporção de Ausentes (%) |\n",
            "|:--------------------|---------------------:|--------------------:|-------------------:|----------------------------:|\n",
            "| Idade               |                  200 |                 200 |                  0 |                           0 |\n",
            "| Renda Anual (em $)  |                  200 |                 200 |                  0 |                           0 |\n",
            "| Gênero              |                  200 |                 200 |                  0 |                           0 |\n",
            "| Tempo no Site (min) |                  200 |                 200 |                  0 |                           0 |\n",
            "| Anúncio Clicado     |                  200 |                 200 |                  0 |                           0 |\n",
            "| Compra (0 ou 1)     |                  200 |                 200 |                  0 |                           0 |\n"
          ]
        }
      ]
    },
    {
      "cell_type": "markdown",
      "source": [
        "## 2.2 Realizar codificação para variáveis categóricas, transformando-as em valores.\n"
      ],
      "metadata": {
        "id": "rT2kBNjB-cHz"
      }
    },
    {
      "cell_type": "code",
      "source": [
        "encoder = OneHotEncoder(sparse_output=False, drop='first', handle_unknown='ignore')\n",
        "encoded_categoricals = encoder.fit_transform(df[variaveis_categoricas])\n",
        "encoded_categoricals_df = pd.DataFrame(encoded_categoricals, columns=encoder.get_feature_names_out(variaveis_categoricas))\n",
        "data_preprocessed = pd.concat([data_preprocessed.reset_index(drop=True), encoded_categoricals_df], axis=1)\n",
        "\n",
        "\n",
        "for col in variaveis_categoricas:\n",
        "    if col in data_preprocessed.columns:\n",
        "        data_preprocessed.drop(columns=[col], inplace=True)\n",
        "\n",
        "print(\"### DataFrame após codificação:\")\n",
        "print(data_preprocessed.head().to_markdown(index=False))"
      ],
      "metadata": {
        "id": "22XHxm_7BH9g",
        "colab": {
          "base_uri": "https://localhost:8080/"
        },
        "outputId": "fed3a550-64d3-4555-80c7-27899d94002b"
      },
      "execution_count": 127,
      "outputs": [
        {
          "output_type": "stream",
          "name": "stdout",
          "text": [
            "### DataFrame após codificação:\n",
            "|     Idade |   Renda Anual (em $) |   Tempo no Site (min) |   Compra (0 ou 1) |   Gênero_Masculino |   Gênero_nan |   Anúncio Clicado_Sim |   Anúncio Clicado_nan |\n",
            "|----------:|---------------------:|----------------------:|------------------:|-------------------:|-------------:|----------------------:|----------------------:|\n",
            "| 0.268293  |             0        |              0.218507 |                 0 |                  0 |            0 |                     0 |                     0 |\n",
            "| 0.97561   |             0.285714 |              0.741748 |                 0 |                  0 |            0 |                     1 |                     0 |\n",
            "| 0.780488  |             0.571429 |              0.230812 |                 1 |                  0 |            0 |                     0 |                     0 |\n",
            "| 0.0731707 |             1        |              0.559578 |                 0 |                  0 |            0 |                     0 |                     0 |\n",
            "| 1         |             0.285714 |              0.947565 |                 1 |                  0 |            0 |                     1 |                     0 |\n"
          ]
        }
      ]
    },
    {
      "cell_type": "markdown",
      "source": [
        "## 2.3 Divisão dos dados em conjuntos de treino e teste."
      ],
      "metadata": {
        "id": "CHI0PWwC-iyH"
      }
    },
    {
      "cell_type": "code",
      "source": [
        "X = data_preprocessed.drop(columns=['Compra (0 ou 1)'])\n",
        "y = data_preprocessed['Compra (0 ou 1)']\n",
        "\n",
        "X_train, X_test, y_train, y_test = train_test_split(X, y, test_size=0.3, random_state=42)\n",
        "\n",
        "X_train.shape, X_test.shape, y_train.shape, y_test.shape, data_preprocessed.head()"
      ],
      "metadata": {
        "colab": {
          "base_uri": "https://localhost:8080/"
        },
        "id": "PNU1SMtY-GEh",
        "outputId": "b2e13a83-650c-4cb4-ecbb-9d145f1fd268"
      },
      "execution_count": 128,
      "outputs": [
        {
          "output_type": "execute_result",
          "data": {
            "text/plain": [
              "((140, 7),\n",
              " (60, 7),\n",
              " (140,),\n",
              " (60,),\n",
              "       Idade  Renda Anual (em $)  Tempo no Site (min)  Compra (0 ou 1)  \\\n",
              " 0  0.268293            0.000000             0.218507                0   \n",
              " 1  0.975610            0.285714             0.741748                0   \n",
              " 2  0.780488            0.571429             0.230812                1   \n",
              " 3  0.073171            1.000000             0.559578                0   \n",
              " 4  1.000000            0.285714             0.947565                1   \n",
              " \n",
              "    Gênero_Masculino  Gênero_nan  Anúncio Clicado_Sim  Anúncio Clicado_nan  \n",
              " 0               0.0         0.0                  0.0                  0.0  \n",
              " 1               0.0         0.0                  1.0                  0.0  \n",
              " 2               0.0         0.0                  0.0                  0.0  \n",
              " 3               0.0         0.0                  0.0                  0.0  \n",
              " 4               0.0         0.0                  1.0                  0.0  )"
            ]
          },
          "metadata": {},
          "execution_count": 128
        }
      ]
    },
    {
      "cell_type": "markdown",
      "source": [
        "# 3 Modelo de Classificação"
      ],
      "metadata": {
        "id": "SluDmMIPcCHn"
      }
    },
    {
      "cell_type": "markdown",
      "source": [
        "## 3.1 Treinamento do modelo de Árvore de Decisão"
      ],
      "metadata": {
        "id": "B0ng-iFLAuCk"
      }
    },
    {
      "cell_type": "code",
      "source": [
        "from sklearn.tree import DecisionTreeClassifier\n",
        "\n",
        "decision_tree_model = DecisionTreeClassifier(random_state=42)\n",
        "decision_tree_model.fit(X_train, y_train)\n",
        "\n",
        "\n"
      ],
      "metadata": {
        "colab": {
          "base_uri": "https://localhost:8080/",
          "height": 80
        },
        "id": "KRKCZ11nAnOK",
        "outputId": "1b43965d-2ef9-4fba-af33-9b1170b8836e"
      },
      "execution_count": 129,
      "outputs": [
        {
          "output_type": "execute_result",
          "data": {
            "text/plain": [
              "DecisionTreeClassifier(random_state=42)"
            ],
            "text/html": [
              "<style>#sk-container-id-1 {\n",
              "  /* Definition of color scheme common for light and dark mode */\n",
              "  --sklearn-color-text: #000;\n",
              "  --sklearn-color-text-muted: #666;\n",
              "  --sklearn-color-line: gray;\n",
              "  /* Definition of color scheme for unfitted estimators */\n",
              "  --sklearn-color-unfitted-level-0: #fff5e6;\n",
              "  --sklearn-color-unfitted-level-1: #f6e4d2;\n",
              "  --sklearn-color-unfitted-level-2: #ffe0b3;\n",
              "  --sklearn-color-unfitted-level-3: chocolate;\n",
              "  /* Definition of color scheme for fitted estimators */\n",
              "  --sklearn-color-fitted-level-0: #f0f8ff;\n",
              "  --sklearn-color-fitted-level-1: #d4ebff;\n",
              "  --sklearn-color-fitted-level-2: #b3dbfd;\n",
              "  --sklearn-color-fitted-level-3: cornflowerblue;\n",
              "\n",
              "  /* Specific color for light theme */\n",
              "  --sklearn-color-text-on-default-background: var(--sg-text-color, var(--theme-code-foreground, var(--jp-content-font-color1, black)));\n",
              "  --sklearn-color-background: var(--sg-background-color, var(--theme-background, var(--jp-layout-color0, white)));\n",
              "  --sklearn-color-border-box: var(--sg-text-color, var(--theme-code-foreground, var(--jp-content-font-color1, black)));\n",
              "  --sklearn-color-icon: #696969;\n",
              "\n",
              "  @media (prefers-color-scheme: dark) {\n",
              "    /* Redefinition of color scheme for dark theme */\n",
              "    --sklearn-color-text-on-default-background: var(--sg-text-color, var(--theme-code-foreground, var(--jp-content-font-color1, white)));\n",
              "    --sklearn-color-background: var(--sg-background-color, var(--theme-background, var(--jp-layout-color0, #111)));\n",
              "    --sklearn-color-border-box: var(--sg-text-color, var(--theme-code-foreground, var(--jp-content-font-color1, white)));\n",
              "    --sklearn-color-icon: #878787;\n",
              "  }\n",
              "}\n",
              "\n",
              "#sk-container-id-1 {\n",
              "  color: var(--sklearn-color-text);\n",
              "}\n",
              "\n",
              "#sk-container-id-1 pre {\n",
              "  padding: 0;\n",
              "}\n",
              "\n",
              "#sk-container-id-1 input.sk-hidden--visually {\n",
              "  border: 0;\n",
              "  clip: rect(1px 1px 1px 1px);\n",
              "  clip: rect(1px, 1px, 1px, 1px);\n",
              "  height: 1px;\n",
              "  margin: -1px;\n",
              "  overflow: hidden;\n",
              "  padding: 0;\n",
              "  position: absolute;\n",
              "  width: 1px;\n",
              "}\n",
              "\n",
              "#sk-container-id-1 div.sk-dashed-wrapped {\n",
              "  border: 1px dashed var(--sklearn-color-line);\n",
              "  margin: 0 0.4em 0.5em 0.4em;\n",
              "  box-sizing: border-box;\n",
              "  padding-bottom: 0.4em;\n",
              "  background-color: var(--sklearn-color-background);\n",
              "}\n",
              "\n",
              "#sk-container-id-1 div.sk-container {\n",
              "  /* jupyter's `normalize.less` sets `[hidden] { display: none; }`\n",
              "     but bootstrap.min.css set `[hidden] { display: none !important; }`\n",
              "     so we also need the `!important` here to be able to override the\n",
              "     default hidden behavior on the sphinx rendered scikit-learn.org.\n",
              "     See: https://github.com/scikit-learn/scikit-learn/issues/21755 */\n",
              "  display: inline-block !important;\n",
              "  position: relative;\n",
              "}\n",
              "\n",
              "#sk-container-id-1 div.sk-text-repr-fallback {\n",
              "  display: none;\n",
              "}\n",
              "\n",
              "div.sk-parallel-item,\n",
              "div.sk-serial,\n",
              "div.sk-item {\n",
              "  /* draw centered vertical line to link estimators */\n",
              "  background-image: linear-gradient(var(--sklearn-color-text-on-default-background), var(--sklearn-color-text-on-default-background));\n",
              "  background-size: 2px 100%;\n",
              "  background-repeat: no-repeat;\n",
              "  background-position: center center;\n",
              "}\n",
              "\n",
              "/* Parallel-specific style estimator block */\n",
              "\n",
              "#sk-container-id-1 div.sk-parallel-item::after {\n",
              "  content: \"\";\n",
              "  width: 100%;\n",
              "  border-bottom: 2px solid var(--sklearn-color-text-on-default-background);\n",
              "  flex-grow: 1;\n",
              "}\n",
              "\n",
              "#sk-container-id-1 div.sk-parallel {\n",
              "  display: flex;\n",
              "  align-items: stretch;\n",
              "  justify-content: center;\n",
              "  background-color: var(--sklearn-color-background);\n",
              "  position: relative;\n",
              "}\n",
              "\n",
              "#sk-container-id-1 div.sk-parallel-item {\n",
              "  display: flex;\n",
              "  flex-direction: column;\n",
              "}\n",
              "\n",
              "#sk-container-id-1 div.sk-parallel-item:first-child::after {\n",
              "  align-self: flex-end;\n",
              "  width: 50%;\n",
              "}\n",
              "\n",
              "#sk-container-id-1 div.sk-parallel-item:last-child::after {\n",
              "  align-self: flex-start;\n",
              "  width: 50%;\n",
              "}\n",
              "\n",
              "#sk-container-id-1 div.sk-parallel-item:only-child::after {\n",
              "  width: 0;\n",
              "}\n",
              "\n",
              "/* Serial-specific style estimator block */\n",
              "\n",
              "#sk-container-id-1 div.sk-serial {\n",
              "  display: flex;\n",
              "  flex-direction: column;\n",
              "  align-items: center;\n",
              "  background-color: var(--sklearn-color-background);\n",
              "  padding-right: 1em;\n",
              "  padding-left: 1em;\n",
              "}\n",
              "\n",
              "\n",
              "/* Toggleable style: style used for estimator/Pipeline/ColumnTransformer box that is\n",
              "clickable and can be expanded/collapsed.\n",
              "- Pipeline and ColumnTransformer use this feature and define the default style\n",
              "- Estimators will overwrite some part of the style using the `sk-estimator` class\n",
              "*/\n",
              "\n",
              "/* Pipeline and ColumnTransformer style (default) */\n",
              "\n",
              "#sk-container-id-1 div.sk-toggleable {\n",
              "  /* Default theme specific background. It is overwritten whether we have a\n",
              "  specific estimator or a Pipeline/ColumnTransformer */\n",
              "  background-color: var(--sklearn-color-background);\n",
              "}\n",
              "\n",
              "/* Toggleable label */\n",
              "#sk-container-id-1 label.sk-toggleable__label {\n",
              "  cursor: pointer;\n",
              "  display: flex;\n",
              "  width: 100%;\n",
              "  margin-bottom: 0;\n",
              "  padding: 0.5em;\n",
              "  box-sizing: border-box;\n",
              "  text-align: center;\n",
              "  align-items: start;\n",
              "  justify-content: space-between;\n",
              "  gap: 0.5em;\n",
              "}\n",
              "\n",
              "#sk-container-id-1 label.sk-toggleable__label .caption {\n",
              "  font-size: 0.6rem;\n",
              "  font-weight: lighter;\n",
              "  color: var(--sklearn-color-text-muted);\n",
              "}\n",
              "\n",
              "#sk-container-id-1 label.sk-toggleable__label-arrow:before {\n",
              "  /* Arrow on the left of the label */\n",
              "  content: \"▸\";\n",
              "  float: left;\n",
              "  margin-right: 0.25em;\n",
              "  color: var(--sklearn-color-icon);\n",
              "}\n",
              "\n",
              "#sk-container-id-1 label.sk-toggleable__label-arrow:hover:before {\n",
              "  color: var(--sklearn-color-text);\n",
              "}\n",
              "\n",
              "/* Toggleable content - dropdown */\n",
              "\n",
              "#sk-container-id-1 div.sk-toggleable__content {\n",
              "  max-height: 0;\n",
              "  max-width: 0;\n",
              "  overflow: hidden;\n",
              "  text-align: left;\n",
              "  /* unfitted */\n",
              "  background-color: var(--sklearn-color-unfitted-level-0);\n",
              "}\n",
              "\n",
              "#sk-container-id-1 div.sk-toggleable__content.fitted {\n",
              "  /* fitted */\n",
              "  background-color: var(--sklearn-color-fitted-level-0);\n",
              "}\n",
              "\n",
              "#sk-container-id-1 div.sk-toggleable__content pre {\n",
              "  margin: 0.2em;\n",
              "  border-radius: 0.25em;\n",
              "  color: var(--sklearn-color-text);\n",
              "  /* unfitted */\n",
              "  background-color: var(--sklearn-color-unfitted-level-0);\n",
              "}\n",
              "\n",
              "#sk-container-id-1 div.sk-toggleable__content.fitted pre {\n",
              "  /* unfitted */\n",
              "  background-color: var(--sklearn-color-fitted-level-0);\n",
              "}\n",
              "\n",
              "#sk-container-id-1 input.sk-toggleable__control:checked~div.sk-toggleable__content {\n",
              "  /* Expand drop-down */\n",
              "  max-height: 200px;\n",
              "  max-width: 100%;\n",
              "  overflow: auto;\n",
              "}\n",
              "\n",
              "#sk-container-id-1 input.sk-toggleable__control:checked~label.sk-toggleable__label-arrow:before {\n",
              "  content: \"▾\";\n",
              "}\n",
              "\n",
              "/* Pipeline/ColumnTransformer-specific style */\n",
              "\n",
              "#sk-container-id-1 div.sk-label input.sk-toggleable__control:checked~label.sk-toggleable__label {\n",
              "  color: var(--sklearn-color-text);\n",
              "  background-color: var(--sklearn-color-unfitted-level-2);\n",
              "}\n",
              "\n",
              "#sk-container-id-1 div.sk-label.fitted input.sk-toggleable__control:checked~label.sk-toggleable__label {\n",
              "  background-color: var(--sklearn-color-fitted-level-2);\n",
              "}\n",
              "\n",
              "/* Estimator-specific style */\n",
              "\n",
              "/* Colorize estimator box */\n",
              "#sk-container-id-1 div.sk-estimator input.sk-toggleable__control:checked~label.sk-toggleable__label {\n",
              "  /* unfitted */\n",
              "  background-color: var(--sklearn-color-unfitted-level-2);\n",
              "}\n",
              "\n",
              "#sk-container-id-1 div.sk-estimator.fitted input.sk-toggleable__control:checked~label.sk-toggleable__label {\n",
              "  /* fitted */\n",
              "  background-color: var(--sklearn-color-fitted-level-2);\n",
              "}\n",
              "\n",
              "#sk-container-id-1 div.sk-label label.sk-toggleable__label,\n",
              "#sk-container-id-1 div.sk-label label {\n",
              "  /* The background is the default theme color */\n",
              "  color: var(--sklearn-color-text-on-default-background);\n",
              "}\n",
              "\n",
              "/* On hover, darken the color of the background */\n",
              "#sk-container-id-1 div.sk-label:hover label.sk-toggleable__label {\n",
              "  color: var(--sklearn-color-text);\n",
              "  background-color: var(--sklearn-color-unfitted-level-2);\n",
              "}\n",
              "\n",
              "/* Label box, darken color on hover, fitted */\n",
              "#sk-container-id-1 div.sk-label.fitted:hover label.sk-toggleable__label.fitted {\n",
              "  color: var(--sklearn-color-text);\n",
              "  background-color: var(--sklearn-color-fitted-level-2);\n",
              "}\n",
              "\n",
              "/* Estimator label */\n",
              "\n",
              "#sk-container-id-1 div.sk-label label {\n",
              "  font-family: monospace;\n",
              "  font-weight: bold;\n",
              "  display: inline-block;\n",
              "  line-height: 1.2em;\n",
              "}\n",
              "\n",
              "#sk-container-id-1 div.sk-label-container {\n",
              "  text-align: center;\n",
              "}\n",
              "\n",
              "/* Estimator-specific */\n",
              "#sk-container-id-1 div.sk-estimator {\n",
              "  font-family: monospace;\n",
              "  border: 1px dotted var(--sklearn-color-border-box);\n",
              "  border-radius: 0.25em;\n",
              "  box-sizing: border-box;\n",
              "  margin-bottom: 0.5em;\n",
              "  /* unfitted */\n",
              "  background-color: var(--sklearn-color-unfitted-level-0);\n",
              "}\n",
              "\n",
              "#sk-container-id-1 div.sk-estimator.fitted {\n",
              "  /* fitted */\n",
              "  background-color: var(--sklearn-color-fitted-level-0);\n",
              "}\n",
              "\n",
              "/* on hover */\n",
              "#sk-container-id-1 div.sk-estimator:hover {\n",
              "  /* unfitted */\n",
              "  background-color: var(--sklearn-color-unfitted-level-2);\n",
              "}\n",
              "\n",
              "#sk-container-id-1 div.sk-estimator.fitted:hover {\n",
              "  /* fitted */\n",
              "  background-color: var(--sklearn-color-fitted-level-2);\n",
              "}\n",
              "\n",
              "/* Specification for estimator info (e.g. \"i\" and \"?\") */\n",
              "\n",
              "/* Common style for \"i\" and \"?\" */\n",
              "\n",
              ".sk-estimator-doc-link,\n",
              "a:link.sk-estimator-doc-link,\n",
              "a:visited.sk-estimator-doc-link {\n",
              "  float: right;\n",
              "  font-size: smaller;\n",
              "  line-height: 1em;\n",
              "  font-family: monospace;\n",
              "  background-color: var(--sklearn-color-background);\n",
              "  border-radius: 1em;\n",
              "  height: 1em;\n",
              "  width: 1em;\n",
              "  text-decoration: none !important;\n",
              "  margin-left: 0.5em;\n",
              "  text-align: center;\n",
              "  /* unfitted */\n",
              "  border: var(--sklearn-color-unfitted-level-1) 1pt solid;\n",
              "  color: var(--sklearn-color-unfitted-level-1);\n",
              "}\n",
              "\n",
              ".sk-estimator-doc-link.fitted,\n",
              "a:link.sk-estimator-doc-link.fitted,\n",
              "a:visited.sk-estimator-doc-link.fitted {\n",
              "  /* fitted */\n",
              "  border: var(--sklearn-color-fitted-level-1) 1pt solid;\n",
              "  color: var(--sklearn-color-fitted-level-1);\n",
              "}\n",
              "\n",
              "/* On hover */\n",
              "div.sk-estimator:hover .sk-estimator-doc-link:hover,\n",
              ".sk-estimator-doc-link:hover,\n",
              "div.sk-label-container:hover .sk-estimator-doc-link:hover,\n",
              ".sk-estimator-doc-link:hover {\n",
              "  /* unfitted */\n",
              "  background-color: var(--sklearn-color-unfitted-level-3);\n",
              "  color: var(--sklearn-color-background);\n",
              "  text-decoration: none;\n",
              "}\n",
              "\n",
              "div.sk-estimator.fitted:hover .sk-estimator-doc-link.fitted:hover,\n",
              ".sk-estimator-doc-link.fitted:hover,\n",
              "div.sk-label-container:hover .sk-estimator-doc-link.fitted:hover,\n",
              ".sk-estimator-doc-link.fitted:hover {\n",
              "  /* fitted */\n",
              "  background-color: var(--sklearn-color-fitted-level-3);\n",
              "  color: var(--sklearn-color-background);\n",
              "  text-decoration: none;\n",
              "}\n",
              "\n",
              "/* Span, style for the box shown on hovering the info icon */\n",
              ".sk-estimator-doc-link span {\n",
              "  display: none;\n",
              "  z-index: 9999;\n",
              "  position: relative;\n",
              "  font-weight: normal;\n",
              "  right: .2ex;\n",
              "  padding: .5ex;\n",
              "  margin: .5ex;\n",
              "  width: min-content;\n",
              "  min-width: 20ex;\n",
              "  max-width: 50ex;\n",
              "  color: var(--sklearn-color-text);\n",
              "  box-shadow: 2pt 2pt 4pt #999;\n",
              "  /* unfitted */\n",
              "  background: var(--sklearn-color-unfitted-level-0);\n",
              "  border: .5pt solid var(--sklearn-color-unfitted-level-3);\n",
              "}\n",
              "\n",
              ".sk-estimator-doc-link.fitted span {\n",
              "  /* fitted */\n",
              "  background: var(--sklearn-color-fitted-level-0);\n",
              "  border: var(--sklearn-color-fitted-level-3);\n",
              "}\n",
              "\n",
              ".sk-estimator-doc-link:hover span {\n",
              "  display: block;\n",
              "}\n",
              "\n",
              "/* \"?\"-specific style due to the `<a>` HTML tag */\n",
              "\n",
              "#sk-container-id-1 a.estimator_doc_link {\n",
              "  float: right;\n",
              "  font-size: 1rem;\n",
              "  line-height: 1em;\n",
              "  font-family: monospace;\n",
              "  background-color: var(--sklearn-color-background);\n",
              "  border-radius: 1rem;\n",
              "  height: 1rem;\n",
              "  width: 1rem;\n",
              "  text-decoration: none;\n",
              "  /* unfitted */\n",
              "  color: var(--sklearn-color-unfitted-level-1);\n",
              "  border: var(--sklearn-color-unfitted-level-1) 1pt solid;\n",
              "}\n",
              "\n",
              "#sk-container-id-1 a.estimator_doc_link.fitted {\n",
              "  /* fitted */\n",
              "  border: var(--sklearn-color-fitted-level-1) 1pt solid;\n",
              "  color: var(--sklearn-color-fitted-level-1);\n",
              "}\n",
              "\n",
              "/* On hover */\n",
              "#sk-container-id-1 a.estimator_doc_link:hover {\n",
              "  /* unfitted */\n",
              "  background-color: var(--sklearn-color-unfitted-level-3);\n",
              "  color: var(--sklearn-color-background);\n",
              "  text-decoration: none;\n",
              "}\n",
              "\n",
              "#sk-container-id-1 a.estimator_doc_link.fitted:hover {\n",
              "  /* fitted */\n",
              "  background-color: var(--sklearn-color-fitted-level-3);\n",
              "}\n",
              "</style><div id=\"sk-container-id-1\" class=\"sk-top-container\"><div class=\"sk-text-repr-fallback\"><pre>DecisionTreeClassifier(random_state=42)</pre><b>In a Jupyter environment, please rerun this cell to show the HTML representation or trust the notebook. <br />On GitHub, the HTML representation is unable to render, please try loading this page with nbviewer.org.</b></div><div class=\"sk-container\" hidden><div class=\"sk-item\"><div class=\"sk-estimator fitted sk-toggleable\"><input class=\"sk-toggleable__control sk-hidden--visually\" id=\"sk-estimator-id-1\" type=\"checkbox\" checked><label for=\"sk-estimator-id-1\" class=\"sk-toggleable__label fitted sk-toggleable__label-arrow\"><div><div>DecisionTreeClassifier</div></div><div><a class=\"sk-estimator-doc-link fitted\" rel=\"noreferrer\" target=\"_blank\" href=\"https://scikit-learn.org/1.6/modules/generated/sklearn.tree.DecisionTreeClassifier.html\">?<span>Documentation for DecisionTreeClassifier</span></a><span class=\"sk-estimator-doc-link fitted\">i<span>Fitted</span></span></div></label><div class=\"sk-toggleable__content fitted\"><pre>DecisionTreeClassifier(random_state=42)</pre></div> </div></div></div></div>"
            ]
          },
          "metadata": {},
          "execution_count": 129
        }
      ]
    },
    {
      "cell_type": "markdown",
      "source": [
        "## 3.2 Avaliar o modelo utilizando métricas apropriadas"
      ],
      "metadata": {
        "id": "9nDba5nkA0Xh"
      }
    },
    {
      "cell_type": "code",
      "source": [
        "y_pred = decision_tree_model.predict(X_test)\n",
        "\n",
        "accuracy = accuracy_score(y_test, y_pred)\n",
        "print(f\"Acurácia: {accuracy}\")\n",
        "\n",
        "print(classification_report(y_test, y_pred))\n",
        "\n",
        "cm = confusion_matrix(y_test, y_pred)\n",
        "sns.heatmap(cm, annot=True, fmt=\"d\")\n",
        "plt.xlabel('Predições')\n",
        "plt.ylabel('Valores Reais')\n",
        "plt.title('Matriz de Confusão')\n",
        "plt.show()"
      ],
      "metadata": {
        "colab": {
          "base_uri": "https://localhost:8080/",
          "height": 645
        },
        "id": "i--0olHkCsy8",
        "outputId": "ea46126e-452c-4a59-b962-e1f7f7cee588"
      },
      "execution_count": 130,
      "outputs": [
        {
          "output_type": "stream",
          "name": "stdout",
          "text": [
            "Acurácia: 0.5833333333333334\n",
            "              precision    recall  f1-score   support\n",
            "\n",
            "           0       0.60      0.86      0.71        35\n",
            "           1       0.50      0.20      0.29        25\n",
            "\n",
            "    accuracy                           0.58        60\n",
            "   macro avg       0.55      0.53      0.50        60\n",
            "weighted avg       0.56      0.58      0.53        60\n",
            "\n"
          ]
        },
        {
          "output_type": "display_data",
          "data": {
            "text/plain": [
              "<Figure size 640x480 with 2 Axes>"
            ],
            "image/png": "[encoded data removed]"
          },
          "metadata": {}
        }
      ]
    },
    {
      "cell_type": "markdown",
      "source": [
        "# Interpretação dos resultados"
      ],
      "metadata": {
        "id": "iuKcAUJMD1PT"
      }
    },
    {
      "cell_type": "code",
      "source": [
        "feature_importances = decision_tree_model.feature_importances_\n",
        "\n",
        "feature_importance_df = pd.DataFrame({'Variável': X_train.columns, 'Importância': feature_importances})\n",
        "\n",
        "feature_importance_df = feature_importance_df.sort_values(by='Importância', ascending=False)\n",
        "\n",
        "markdown_table = feature_importance_df.to_markdown(index=False)\n",
        "print(\"# Importância das Variáveis\\n\")\n",
        "print(markdown_table)\n",
        "\n",
        "plt.figure(figsize=(10, 6))\n",
        "sns.barplot(x='Importância', y='Variável', data=feature_importance_df)\n",
        "plt.title('Importância das Variáveis')\n",
        "plt.xlabel('Importância')\n",
        "plt.ylabel('Variável')\n",
        "plt.tight_layout()\n",
        "plt.show()\n"
      ],
      "metadata": {
        "colab": {
          "base_uri": "https://localhost:8080/",
          "height": 798
        },
        "id": "7c-B68WfI3a5",
        "outputId": "3aa15729-af00-4c6a-bc0e-e06bd665a717"
      },
      "execution_count": 134,
      "outputs": [
        {
          "output_type": "stream",
          "name": "stdout",
          "text": [
            "# Importância das Variáveis\n",
            "\n",
            "| Variável            |   Importância |\n",
            "|:--------------------|--------------:|\n",
            "| Tempo no Site (min) |     0.449406  |\n",
            "| Idade               |     0.318949  |\n",
            "| Renda Anual (em $)  |     0.165295  |\n",
            "| Anúncio Clicado_nan |     0.0302123 |\n",
            "| Gênero_Masculino    |     0.0238477 |\n",
            "| Anúncio Clicado_Sim |     0.0122908 |\n",
            "| Gênero_nan          |     0         |\n"
          ]
        },
        {
          "output_type": "display_data",
          "data": {
            "text/plain": [
              "<Figure size 1000x600 with 1 Axes>"
            ],
            "image/png": "[encoded data removed]"
          },
          "metadata": {}
        }
      ]
    }
  ]
}
